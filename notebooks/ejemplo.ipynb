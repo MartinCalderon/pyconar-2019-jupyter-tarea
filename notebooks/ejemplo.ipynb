{
 "cells": [
  {
   "cell_type": "markdown",
   "metadata": {},
   "source": [
    "Hola!, \n",
    "\n",
    "No te asustes por las lineas de codigo de abajo esto es solo una prueba para ver que la instalación está bien.\n",
    "\n",
    "Lo único que tienes que hacer es ejecutar las siguientes celdas apretando el boton de _Run_ en la barra de iconos o tecleando _Ctrl + Enter_ y pasando a la siguiente celda.\n",
    "\n",
    "Pero cuidado, la primer celda hay que ejecutarla dos veces para que funcione :P."
   ]
  },
  {
   "cell_type": "code",
   "execution_count": 3,
   "metadata": {},
   "outputs": [],
   "source": [
    "# %load ../src/hola.py\n",
    "import ipycanvas\n",
    "import numpy\n",
    "\n",
    "def dibujar():\n",
    "    ancho, altura = 800,200\n",
    "    cantidad_puntos = 628\n",
    "    canvas = ipycanvas.Canvas(size=(ancho,altura))\n",
    "    canvas.font = '70px helvetica'\n",
    "\n",
    "    for color in ['green','red','yellow','blue']:\n",
    "        canvas.fill_style = color\n",
    "        x = numpy.random.randint(0,ancho,cantidad_puntos)\n",
    "        y = numpy.random.randint(0,altura,cantidad_puntos)\n",
    "        tamanios = numpy.random.randint(0,10,cantidad_puntos)\n",
    "        canvas.fill_rects(x,y,tamanios)\n",
    "\n",
    "    canvas.fill_style = 'magenta'\n",
    "    canvas.fill_text('Bienvenide al taller.',12,102)\n",
    "    canvas.fill_style = 'Black'\n",
    "    canvas.fill_text('Bienvenide al taller.',10,100)\n",
    "    return canvas"
   ]
  },
  {
   "cell_type": "code",
   "execution_count": 4,
   "metadata": {},
   "outputs": [
    {
     "data": {
      "application/vnd.jupyter.widget-view+json": {
       "model_id": "5b1d8b25d35248c48b4b873edd21f63f",
       "version_major": 2,
       "version_minor": 0
      },
      "text/plain": [
       "Canvas(layout=Layout(height='200px', width='800px'), size=(800, 200))"
      ]
     },
     "metadata": {},
     "output_type": "display_data"
    }
   ],
   "source": [
    "dibujar()"
   ]
  },
  {
   "cell_type": "code",
   "execution_count": 5,
   "metadata": {},
   "outputs": [],
   "source": [
    "import ipywidgets as widgets"
   ]
  },
  {
   "cell_type": "code",
   "execution_count": 12,
   "metadata": {},
   "outputs": [
    {
     "data": {
      "application/vnd.jupyter.widget-view+json": {
       "model_id": "45580b9ee1e2479d8828e74d029dfd32",
       "version_major": 2,
       "version_minor": 0
      },
      "text/plain": [
       "Button(style=ButtonStyle())"
      ]
     },
     "metadata": {},
     "output_type": "display_data"
    }
   ],
   "source": [
    "widgets.Button()"
   ]
  },
  {
   "cell_type": "code",
   "execution_count": 14,
   "metadata": {
    "scrolled": true
   },
   "outputs": [
    {
     "data": {
      "application/vnd.jupyter.widget-view+json": {
       "model_id": "fd727ec3aaa844e08022bccf30c56e67",
       "version_major": 2,
       "version_minor": 0
      },
      "text/plain": [
       "IntSlider(value=1, max=10, min=1)"
      ]
     },
     "metadata": {},
     "output_type": "display_data"
    }
   ],
   "source": [
    "from ipywidgets import IntSlider\n",
    "from IPython.display import display\n",
    "slider = IntSlider(min=1, max=10)\n",
    "display(slider)"
   ]
  },
  {
   "cell_type": "code",
   "execution_count": 17,
   "metadata": {},
   "outputs": [],
   "source": [
    "from bqplot import Figure, Axis, LinearScale, Scatter, Lines"
   ]
  },
  {
   "cell_type": "code",
   "execution_count": 58,
   "metadata": {},
   "outputs": [
    {
     "data": {
      "application/vnd.jupyter.widget-view+json": {
       "model_id": "de9910012d4540f496f844736d2729de",
       "version_major": 2,
       "version_minor": 0
      },
      "text/plain": [
       "Figure(axes=[Axis(label='Eje X', scale=LinearScale(), tick_format='0.0f'), Axis(label='Eje Y', orientation='ve…"
      ]
     },
     "metadata": {},
     "output_type": "display_data"
    }
   ],
   "source": [
    "# Generamos un rango del 0 al 9 para el eje x\n",
    "x_data = range(10)\n",
    "# elevamos al cuadrado cada valor de cada numero del rango creado usando lambda\n",
    "y_data = [i ** 2 for i in x_data]\n",
    "\n",
    "# Creamos la escala\n",
    "x_sc = LinearScale()\n",
    "y_sc = LinearScale()\n",
    "\n",
    "ax_x = Axis(label='Eje X', scale=x_sc, tick_format='0.0f')\n",
    "ax_y = Axis(label='Eje Y', scale=y_sc,\n",
    "            orientation='vertical', tick_format='0.2f')\n",
    "\n",
    "# Original version\n",
    "#line = Lines(x=x_data,\n",
    "#             y=y_data,\n",
    "#             scales={'x': x_sc, 'y': y_sc},\n",
    "#             colors=['Green', 'black'])\n",
    "\n",
    "# New scatter version\n",
    "# Original version\n",
    "line = Scatter(x=x_data,\n",
    "            y=y_data,\n",
    "             scales={'x': x_sc, 'y': y_sc},\n",
    "             colors=['Green', 'black'])\n",
    "\n",
    "#fig = Figure(axes=[ax_x, ax_y], marks=[line])\n",
    "fig = Figure(axes=[ax_x, ax_y], marks=[line])\n",
    "fig\n",
    "\n",
    "fig"
   ]
  },
  {
   "cell_type": "markdown",
   "metadata": {},
   "source": [
    "### Nuevo ejemplo pero moviendo los puntos del chart"
   ]
  },
  {
   "cell_type": "code",
   "execution_count": 68,
   "metadata": {},
   "outputs": [
    {
     "data": {
      "application/vnd.jupyter.widget-view+json": {
       "model_id": "f3df61f31f50449680ccae5d7e4bf865",
       "version_major": 2,
       "version_minor": 0
      },
      "text/plain": [
       "Figure(axes=[Axis(label='Eje X', scale=LinearScale(), tick_format='0.0f'), Axis(label='Eje Y', orientation='ve…"
      ]
     },
     "metadata": {},
     "output_type": "display_data"
    }
   ],
   "source": [
    "# Generamos un rango del 0 al 9 para el eje x\n",
    "x_data = range(10)\n",
    "# elevamos al cuadrado cada valor de cada numero del rango creado usando lambda\n",
    "y_data = [i ** 2 for i in x_data]\n",
    "\n",
    "# Creamos la escala\n",
    "x_sc = LinearScale()\n",
    "y_sc = LinearScale()\n",
    "\n",
    "ax_x = Axis(label='Eje X', scale=x_sc, tick_format='0.0f')\n",
    "ax_y = Axis(label='Eje Y', scale=y_sc,\n",
    "            orientation='vertical', tick_format='0.2f')\n",
    "\n",
    "\n",
    "line = Scatter(x=x_data,\n",
    "            y=y_data,\n",
    "             scales={'x': x_sc, 'y': y_sc},\n",
    "             colors=['Green', 'black'])\n",
    "line.enable_move= True\n",
    "#line.interactions = {'click': 'select', 'hover':'tooltip'}\n",
    "\n",
    "#fig = Figure(axes=[ax_x, ax_y], marks=[line])\n",
    "fig = Figure(axes=[ax_x, ax_y], marks=[line])\n",
    "\n",
    "fig"
   ]
  },
  {
   "cell_type": "code",
   "execution_count": 69,
   "metadata": {},
   "outputs": [
    {
     "data": {
      "text/plain": [
       "['_model_module',\n",
       " '_model_module_version',\n",
       " '_model_name',\n",
       " '_view_count',\n",
       " '_view_module',\n",
       " '_view_module_version',\n",
       " '_view_name',\n",
       " 'apply_clip',\n",
       " 'color',\n",
       " 'colors',\n",
       " 'default_opacities',\n",
       " 'default_size',\n",
       " 'default_skew',\n",
       " 'display_legend',\n",
       " 'display_names',\n",
       " 'drag_color',\n",
       " 'drag_size',\n",
       " 'enable_delete',\n",
       " 'enable_hover',\n",
       " 'enable_move',\n",
       " 'fill',\n",
       " 'hovered_point',\n",
       " 'hovered_style',\n",
       " 'interactions',\n",
       " 'labels',\n",
       " 'marker',\n",
       " 'names',\n",
       " 'names_unique',\n",
       " 'opacity',\n",
       " 'preserve_domain',\n",
       " 'restrict_x',\n",
       " 'restrict_y',\n",
       " 'rotation',\n",
       " 'scales',\n",
       " 'scales_metadata',\n",
       " 'selected',\n",
       " 'selected_style',\n",
       " 'size',\n",
       " 'skew',\n",
       " 'stroke',\n",
       " 'stroke_width',\n",
       " 'tooltip',\n",
       " 'tooltip_location',\n",
       " 'tooltip_style',\n",
       " 'unhovered_style',\n",
       " 'unselected_style',\n",
       " 'update_on_move',\n",
       " 'visible',\n",
       " 'x',\n",
       " 'y']"
      ]
     },
     "execution_count": 69,
     "metadata": {},
     "output_type": "execute_result"
    }
   ],
   "source": [
    "line.keys"
   ]
  },
  {
   "cell_type": "code",
   "execution_count": 38,
   "metadata": {},
   "outputs": [],
   "source": []
  },
  {
   "cell_type": "code",
   "execution_count": 36,
   "metadata": {},
   "outputs": [
    {
     "data": {
      "text/plain": [
       "LinearScale()"
      ]
     },
     "execution_count": 36,
     "metadata": {},
     "output_type": "execute_result"
    }
   ],
   "source": []
  },
  {
   "cell_type": "code",
   "execution_count": 37,
   "metadata": {},
   "outputs": [
    {
     "name": "stdout",
     "output_type": "stream",
     "text": [
      "LinearScale()\n"
     ]
    }
   ],
   "source": []
  },
  {
   "cell_type": "code",
   "execution_count": null,
   "metadata": {},
   "outputs": [],
   "source": []
  }
 ],
 "metadata": {
  "kernelspec": {
   "display_name": "Python 3",
   "language": "python",
   "name": "python3"
  },
  "language_info": {
   "codemirror_mode": {
    "name": "ipython",
    "version": 3
   },
   "file_extension": ".py",
   "mimetype": "text/x-python",
   "name": "python",
   "nbconvert_exporter": "python",
   "pygments_lexer": "ipython3",
   "version": "3.8.0"
  }
 },
 "nbformat": 4,
 "nbformat_minor": 4
}
