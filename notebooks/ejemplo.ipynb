{
 "cells": [
  {
   "cell_type": "markdown",
   "metadata": {},
   "source": [
    "Hola!, \n",
    "\n",
    "No te asustes por las lineas de codigo de abajo esto es solo una prueba para ver que la instalación está bien.\n",
    "\n",
    "Lo único que tienes que hacer es ejecutar las siguientes celdas apretando el boton de _Run_ en la barra de iconos o tecleando _Ctrl + Enter_ y pasando a la siguiente celda.\n",
    "\n",
    "Pero cuidado, la primer celda hay que ejecutarla dos veces para que funcione :P."
   ]
  },
  {
   "cell_type": "code",
   "execution_count": null,
   "metadata": {},
   "outputs": [],
   "source": [
    "%load ../src/hola.py"
   ]
  },
  {
   "cell_type": "code",
   "execution_count": null,
   "metadata": {},
   "outputs": [],
   "source": [
    "dibujar()"
   ]
  }
 ],
 "metadata": {
  "kernelspec": {
   "display_name": "Python 3",
   "language": "python",
   "name": "python3"
  },
  "language_info": {
   "codemirror_mode": {
    "name": "ipython",
    "version": 3
   },
   "file_extension": ".py",
   "mimetype": "text/x-python",
   "name": "python",
   "nbconvert_exporter": "python",
   "pygments_lexer": "ipython3",
   "version": "3.8.0"
  }
 },
 "nbformat": 4,
 "nbformat_minor": 4
}
